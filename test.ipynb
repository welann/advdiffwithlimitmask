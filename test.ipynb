{
 "cells": [
  {
   "cell_type": "code",
   "execution_count": 24,
   "metadata": {},
   "outputs": [
    {
     "name": "stdout",
     "output_type": "stream",
     "text": [
      "torch.Size([2, 1, 4, 2])\n",
      "2\n",
      "==========\n",
      "torch.Size([2, 1, 1, 1])\n",
      "2\n",
      "==========\n",
      "torch.Size([2, 1])\n",
      "2\n"
     ]
    }
   ],
   "source": [
    "import torch\n",
    "import torch.nn as nn\n",
    "\n",
    "gap = nn.AdaptiveAvgPool2d(1)\n",
    "\n",
    "x = torch.randn(2,1,4,2)\n",
    "\n",
    "# print(x)\n",
    "print(x.shape)\n",
    "print(x.size(0))\n",
    "x = gap(x)\n",
    "print(\"==========\")\n",
    "# print(x)\n",
    "print(x.shape)\n",
    "print(x.size(0))\n",
    "x = x.view(x.size(0), -1)\n",
    "print(\"==========\")\n",
    "# print(x)\n",
    "print(x.shape)\n",
    "print(x.size(0))"
   ]
  },
  {
   "cell_type": "code",
   "execution_count": 25,
   "metadata": {},
   "outputs": [
    {
     "name": "stdout",
     "output_type": "stream",
     "text": [
      "==========\n",
      "tensor([[-0.6749, -0.2163, -0.2856, -0.3834, -0.0475, -0.6348, -0.9470, -0.4432,\n",
      "          0.6078,  0.0835],\n",
      "        [-0.6717, -0.2010, -0.2933, -0.3868, -0.0566, -0.6314, -0.9573, -0.4412,\n",
      "          0.6142,  0.0648]], grad_fn=<AddmmBackward0>)\n",
      "torch.Size([2, 10])\n"
     ]
    }
   ],
   "source": [
    "fc = nn.Linear(1, 10)\n",
    "x = fc(x)\n",
    "print(\"==========\")\n",
    "print(x)\n",
    "print(x.shape)"
   ]
  },
  {
   "cell_type": "code",
   "execution_count": null,
   "metadata": {},
   "outputs": [],
   "source": [
    "\n"
   ]
  }
 ],
 "metadata": {
  "kernelspec": {
   "display_name": "Python 3",
   "language": "python",
   "name": "python3"
  },
  "language_info": {
   "codemirror_mode": {
    "name": "ipython",
    "version": 3
   },
   "file_extension": ".py",
   "mimetype": "text/x-python",
   "name": "python",
   "nbconvert_exporter": "python",
   "pygments_lexer": "ipython3",
   "version": "3.10.12"
  }
 },
 "nbformat": 4,
 "nbformat_minor": 2
}
